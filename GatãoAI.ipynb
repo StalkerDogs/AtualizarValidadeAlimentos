{
  "nbformat": 4,
  "nbformat_minor": 0,
  "metadata": {
    "colab": {
      "provenance": [],
      "include_colab_link": true
    },
    "kernelspec": {
      "name": "python3",
      "display_name": "Python 3"
    },
    "language_info": {
      "name": "python"
    }
  },
  "cells": [
    {
      "cell_type": "markdown",
      "metadata": {
        "id": "view-in-github",
        "colab_type": "text"
      },
      "source": [
        "<a href=\"https://colab.research.google.com/github/StalkerDogs/AtualizarValidadeAlimentos/blob/main/Gat%C3%A3oAI.ipynb\" target=\"_parent\"><img src=\"https://colab.research.google.com/assets/colab-badge.svg\" alt=\"Open In Colab\"/></a>"
      ]
    },
    {
      "cell_type": "code",
      "execution_count": null,
      "metadata": {
        "colab": {
          "base_uri": "https://localhost:8080/"
        },
        "id": "yqkp11geJHP6",
        "outputId": "5fb8583d-93d8-4949-e66c-9b7ef0fd827e"
      },
      "outputs": [
        {
          "output_type": "stream",
          "name": "stdout",
          "text": [
            "Requirement already satisfied: google-genai in /usr/local/lib/python3.11/dist-packages (1.15.0)\n",
            "Requirement already satisfied: anyio<5.0.0,>=4.8.0 in /usr/local/lib/python3.11/dist-packages (from google-genai) (4.9.0)\n",
            "Requirement already satisfied: google-auth<3.0.0,>=2.14.1 in /usr/local/lib/python3.11/dist-packages (from google-genai) (2.38.0)\n",
            "Requirement already satisfied: httpx<1.0.0,>=0.28.1 in /usr/local/lib/python3.11/dist-packages (from google-genai) (0.28.1)\n",
            "Requirement already satisfied: pydantic<3.0.0,>=2.0.0 in /usr/local/lib/python3.11/dist-packages (from google-genai) (2.11.4)\n",
            "Requirement already satisfied: requests<3.0.0,>=2.28.1 in /usr/local/lib/python3.11/dist-packages (from google-genai) (2.32.3)\n",
            "Requirement already satisfied: websockets<15.1.0,>=13.0.0 in /usr/local/lib/python3.11/dist-packages (from google-genai) (15.0.1)\n",
            "Requirement already satisfied: typing-extensions<5.0.0,>=4.11.0 in /usr/local/lib/python3.11/dist-packages (from google-genai) (4.13.2)\n",
            "Requirement already satisfied: idna>=2.8 in /usr/local/lib/python3.11/dist-packages (from anyio<5.0.0,>=4.8.0->google-genai) (3.10)\n",
            "Requirement already satisfied: sniffio>=1.1 in /usr/local/lib/python3.11/dist-packages (from anyio<5.0.0,>=4.8.0->google-genai) (1.3.1)\n",
            "Requirement already satisfied: cachetools<6.0,>=2.0.0 in /usr/local/lib/python3.11/dist-packages (from google-auth<3.0.0,>=2.14.1->google-genai) (5.5.2)\n",
            "Requirement already satisfied: pyasn1-modules>=0.2.1 in /usr/local/lib/python3.11/dist-packages (from google-auth<3.0.0,>=2.14.1->google-genai) (0.4.2)\n",
            "Requirement already satisfied: rsa<5,>=3.1.4 in /usr/local/lib/python3.11/dist-packages (from google-auth<3.0.0,>=2.14.1->google-genai) (4.9.1)\n",
            "Requirement already satisfied: certifi in /usr/local/lib/python3.11/dist-packages (from httpx<1.0.0,>=0.28.1->google-genai) (2025.4.26)\n",
            "Requirement already satisfied: httpcore==1.* in /usr/local/lib/python3.11/dist-packages (from httpx<1.0.0,>=0.28.1->google-genai) (1.0.9)\n",
            "Requirement already satisfied: h11>=0.16 in /usr/local/lib/python3.11/dist-packages (from httpcore==1.*->httpx<1.0.0,>=0.28.1->google-genai) (0.16.0)\n",
            "Requirement already satisfied: annotated-types>=0.6.0 in /usr/local/lib/python3.11/dist-packages (from pydantic<3.0.0,>=2.0.0->google-genai) (0.7.0)\n",
            "Requirement already satisfied: pydantic-core==2.33.2 in /usr/local/lib/python3.11/dist-packages (from pydantic<3.0.0,>=2.0.0->google-genai) (2.33.2)\n",
            "Requirement already satisfied: typing-inspection>=0.4.0 in /usr/local/lib/python3.11/dist-packages (from pydantic<3.0.0,>=2.0.0->google-genai) (0.4.0)\n",
            "Requirement already satisfied: charset-normalizer<4,>=2 in /usr/local/lib/python3.11/dist-packages (from requests<3.0.0,>=2.28.1->google-genai) (3.4.2)\n",
            "Requirement already satisfied: urllib3<3,>=1.21.1 in /usr/local/lib/python3.11/dist-packages (from requests<3.0.0,>=2.28.1->google-genai) (2.4.0)\n",
            "Requirement already satisfied: pyasn1<0.7.0,>=0.6.1 in /usr/local/lib/python3.11/dist-packages (from pyasn1-modules>=0.2.1->google-auth<3.0.0,>=2.14.1->google-genai) (0.6.1)\n"
          ]
        }
      ],
      "source": [
        "!pip install google-genai"
      ]
    },
    {
      "cell_type": "code",
      "source": [
        "import os\n",
        "from google.colab import userdata\n",
        "from google import genai\n",
        "os.environ['GOOGLE_API_KEY'] = userdata.get('GOOGLE_API_KEY')\n",
        "client = genai.Client()"
      ],
      "metadata": {
        "id": "y08tQqsE_gd8"
      },
      "execution_count": 9,
      "outputs": []
    },
    {
      "cell_type": "code",
      "source": [
        "for model in client.models.list():\n",
        "    print(model.name)"
      ],
      "metadata": {
        "colab": {
          "base_uri": "https://localhost:8080/"
        },
        "id": "hXMK3RKM-QVy",
        "outputId": "3cab69df-9d89-4979-ea35-317861463eef"
      },
      "execution_count": 10,
      "outputs": [
        {
          "output_type": "stream",
          "name": "stdout",
          "text": [
            "models/embedding-gecko-001\n",
            "models/gemini-1.0-pro-vision-latest\n",
            "models/gemini-pro-vision\n",
            "models/gemini-1.5-pro-latest\n",
            "models/gemini-1.5-pro-001\n",
            "models/gemini-1.5-pro-002\n",
            "models/gemini-1.5-pro\n",
            "models/gemini-1.5-flash-latest\n",
            "models/gemini-1.5-flash-001\n",
            "models/gemini-1.5-flash-001-tuning\n",
            "models/gemini-1.5-flash\n",
            "models/gemini-1.5-flash-002\n",
            "models/gemini-1.5-flash-8b\n",
            "models/gemini-1.5-flash-8b-001\n",
            "models/gemini-1.5-flash-8b-latest\n",
            "models/gemini-1.5-flash-8b-exp-0827\n",
            "models/gemini-1.5-flash-8b-exp-0924\n",
            "models/gemini-2.5-pro-exp-03-25\n",
            "models/gemini-2.5-pro-preview-03-25\n",
            "models/gemini-2.5-flash-preview-04-17\n",
            "models/gemini-2.5-flash-preview-04-17-thinking\n",
            "models/gemini-2.5-pro-preview-05-06\n",
            "models/gemini-2.0-flash-exp\n",
            "models/gemini-2.0-flash\n",
            "models/gemini-2.0-flash-001\n",
            "models/gemini-2.0-flash-exp-image-generation\n",
            "models/gemini-2.0-flash-lite-001\n",
            "models/gemini-2.0-flash-lite\n",
            "models/gemini-2.0-flash-preview-image-generation\n",
            "models/gemini-2.0-flash-lite-preview-02-05\n",
            "models/gemini-2.0-flash-lite-preview\n",
            "models/gemini-2.0-pro-exp\n",
            "models/gemini-2.0-pro-exp-02-05\n",
            "models/gemini-exp-1206\n",
            "models/gemini-2.0-flash-thinking-exp-01-21\n",
            "models/gemini-2.0-flash-thinking-exp\n",
            "models/gemini-2.0-flash-thinking-exp-1219\n",
            "models/learnlm-2.0-flash-experimental\n",
            "models/gemma-3-1b-it\n",
            "models/gemma-3-4b-it\n",
            "models/gemma-3-12b-it\n",
            "models/gemma-3-27b-it\n",
            "models/embedding-001\n",
            "models/text-embedding-004\n",
            "models/gemini-embedding-exp-03-07\n",
            "models/gemini-embedding-exp\n",
            "models/aqa\n",
            "models/imagen-3.0-generate-002\n",
            "models/gemini-2.0-flash-live-001\n"
          ]
        }
      ]
    },
    {
      "cell_type": "code",
      "source": [
        "modelo = \"gemini-2.0-flash\"\n",
        "\n",
        "resposta = client.models.generate_content(model=modelo,\n",
        "contents=\"Quais seus gastos hoje com energia?\")"
      ],
      "metadata": {
        "id": "A2hCxqhKP0k-"
      },
      "execution_count": 13,
      "outputs": []
    },
    {
      "cell_type": "code",
      "source": [
        "resposta.text"
      ],
      "metadata": {
        "id": "B8Q980muQo2-",
        "outputId": "2962860a-17e6-4afc-def5-e301493abed1",
        "colab": {
          "base_uri": "https://localhost:8080/",
          "height": 105
        }
      },
      "execution_count": 14,
      "outputs": [
        {
          "output_type": "execute_result",
          "data": {
            "text/plain": [
              "'Como uma inteligência artificial, eu não tenho gastos com energia no sentido tradicional. Eu não vivo em uma casa, não uso eletrodomésticos e não recebo contas de luz.\\n\\nA energia que me permite funcionar é consumida pelos servidores e data centers onde estou hospedado e pelas pessoas que me mantêm em funcionamento. O Google, a empresa que me desenvolveu, tem um grande compromisso com a sustentabilidade e busca constantemente maneiras de reduzir o consumo de energia e utilizar fontes renováveis.\\n\\nSe você está interessado em reduzir seus próprios gastos com energia, posso te dar algumas dicas! 😊\\n'"
            ],
            "application/vnd.google.colaboratory.intrinsic+json": {
              "type": "string"
            }
          },
          "metadata": {},
          "execution_count": 14
        }
      ]
    },
    {
      "cell_type": "code",
      "source": [
        "chat = client.chats.create(model=modelo)\n",
        "\n",
        "resposta = chat.send_message(\"O que você precisa hoje para diminuir o valor da sua conta de energia?\")\n",
        "\n",
        "resposta.text"
      ],
      "metadata": {
        "id": "Th-nsM9yRYfq",
        "outputId": "12e67352-ac2e-4cef-a83c-22bbe259ed75",
        "colab": {
          "base_uri": "https://localhost:8080/",
          "height": 140
        }
      },
      "execution_count": 15,
      "outputs": [
        {
          "output_type": "execute_result",
          "data": {
            "text/plain": [
              "'Para te ajudar a diminuir o valor da sua conta de energia, preciso de algumas informações suas. Quanto mais detalhada for a informação, mais precisa será a minha ajuda. Aqui estão algumas coisas que preciso saber:\\n\\n**1. Sobre seus hábitos de consumo:**\\n\\n*   **Quais eletrodomésticos você usa com mais frequência?** (Ex: ar condicionado, chuveiro elétrico, máquina de lavar, ferro de passar, etc.)\\n*   **Por quanto tempo você usa esses aparelhos diariamente/semanalmente?** (Uma estimativa já ajuda!)\\n*   **Qual a temperatura que você costuma ajustar no ar condicionado/chuveiro elétrico?**\\n*   **Você tem hábitos específicos de consumo de energia?** (Ex: deixa luzes acesas em cômodos vazios, usa o computador/TV por longos períodos, etc.)\\n*   **Quantas pessoas moram na sua casa?**\\n*   **Vocês costumam usar os eletrodomésticos simultaneamente (ao mesmo tempo)?**\\n\\n**2. Sobre seus aparelhos e equipamentos:**\\n\\n*   **Seus eletrodomésticos são novos ou antigos?** (Aparelhos mais antigos tendem a consumir mais energia.)\\n*   **Seus aparelhos possuem o selo Procel de economia de energia?** (O selo indica a eficiência energética do aparelho.)\\n*   **Você sabe a potência (em Watts) dos seus principais eletrodomésticos?** (Essa informação geralmente está na etiqueta do aparelho.)\\n*   **Que tipo de lâmpadas você usa em casa?** (Incandescentes, fluorescentes, LED?)\\n\\n**3. Sobre sua casa:**\\n\\n*   **Sua casa recebe muita luz solar direta?** (Isso pode influenciar no uso do ar condicionado.)\\n*   **Suas janelas e portas são bem vedadas?** (Frestas podem causar perda de calor/frio e aumentar o consumo de energia.)\\n*   **Você tem aquecimento solar para água?**\\n\\n**4. Sobre sua conta de energia:**\\n\\n*   **Qual o valor médio da sua conta de energia?**\\n*   **Qual a sua tarifa de energia (kWh)?** (Essa informação está na sua conta de luz.)\\n*   **Você está em alguma tarifa especial (como a tarifa social)?**\\n\\n**Com essas informações, poderei te dar dicas e sugestões personalizadas para reduzir seu consumo de energia e, consequentemente, o valor da sua conta.**\\n\\n**Exemplos de dicas que posso te dar:**\\n\\n*   **Substituir lâmpadas incandescentes por LED.**\\n*   **Usar o ar condicionado com moderação e ajustar a temperatura para 23°C.**\\n*   **Tomar banhos mais curtos e com temperatura moderada.**\\n*   **Desligar aparelhos eletrônicos da tomada quando não estiverem em uso.**\\n*   **Acumular roupas para lavar de uma vez na máquina.**\\n*   **Aproveitar a luz natural ao máximo.**\\n*   **Verificar se há vazamentos de energia na sua instalação elétrica.**\\n*   **Considerar a instalação de painéis solares, dependendo da sua localização e consumo.**\\n\\n**Quanto mais informações você me fornecer, mais eficiente será a minha ajuda!**'"
            ],
            "application/vnd.google.colaboratory.intrinsic+json": {
              "type": "string"
            }
          },
          "metadata": {},
          "execution_count": 15
        }
      ]
    },
    {
      "cell_type": "code",
      "source": [
        "resposta = chat.send_message(\"O que podemos fazer para melhorar os custos de energia em casa?\")\n",
        "\n",
        "resposta.text"
      ],
      "metadata": {
        "id": "0rt5rSrvtsPp",
        "outputId": "3670d843-bdbe-48a8-810b-69b688619cda",
        "colab": {
          "base_uri": "https://localhost:8080/",
          "height": 140
        }
      },
      "execution_count": 16,
      "outputs": [
        {
          "output_type": "execute_result",
          "data": {
            "text/plain": [
              "'Para melhorar os custos de energia em casa, podemos adotar uma série de medidas focadas em reduzir o consumo e otimizar o uso dos aparelhos. Aqui estão algumas dicas e estratégias abrangentes:\\n\\n**1. Iluminação:**\\n\\n*   **Substitua lâmpadas:** Troque lâmpadas incandescentes ou fluorescentes por LEDs. LEDs consomem até 80% menos energia e duram muito mais.\\n*   **Aproveite a luz natural:** Abra cortinas e persianas durante o dia para usar a luz do sol. Pinte paredes com cores claras para refletir a luz e reduzir a necessidade de iluminação artificial.\\n*   **Use sensores de presença:** Instale sensores de presença em áreas de passagem, como corredores e garagens, para que as luzes só acendam quando necessário.\\n*   **Desligue as luzes:** Lembre-se de apagar as luzes ao sair de um cômodo.\\n\\n**2. Refrigeração e Aquecimento:**\\n\\n*   **Ar condicionado:**\\n    *   **Use com moderação:** Ajuste a temperatura para 23°C ou 24°C, que é uma temperatura confortável e economiza energia.\\n    *   **Limpe os filtros:** Filtros sujos fazem o ar condicionado trabalhar mais, aumentando o consumo. Limpe-os regularmente (a cada 15-30 dias).\\n    *   **Vedação:** Mantenha portas e janelas fechadas para evitar a perda de ar frio.\\n    *   **Cortinas e persianas:** Use cortinas e persianas para bloquear a luz solar direta, principalmente nas horas mais quentes do dia.\\n    *   **Invista em modelos eficientes:** Se precisar comprar um novo ar condicionado, escolha um modelo com selo Procel A, que indica maior eficiência energética.\\n*   **Ventiladores:** Use ventiladores para complementar ou substituir o ar condicionado em dias mais amenos. Ventiladores consomem muito menos energia.\\n*   **Aquecedores:**\\n    *   **Use com moderação:** Aqueça apenas os cômodos que estiverem sendo utilizados.\\n    *   **Isolamento:** Verifique o isolamento de sua casa. Janelas e portas bem vedadas ajudam a manter a temperatura interna.\\n    *   **Roupas adequadas:** Use roupas mais quentes dentro de casa para diminuir a necessidade de aquecimento.\\n\\n**3. Água Quente:**\\n\\n*   **Chuveiro elétrico:**\\n    *   **Reduza o tempo de banho:** Banhos mais curtos economizam água e energia.\\n    *   **Ajuste a temperatura:** Evite usar o chuveiro na temperatura máxima (inverno).\\n    *   **Use um chuveiro eficiente:** Chuveiros com design que misturam ar à água podem reduzir o consumo sem diminuir a sensação de volume.\\n*   **Aquecimento solar:** Considere instalar um sistema de aquecimento solar de água. É um investimento que se paga a longo prazo, pois a energia solar é gratuita.\\n*   **Evite vazamentos:** Verifique se há vazamentos em torneiras e chuveiros, pois eles desperdiçam água quente e aumentam o consumo de energia.\\n\\n**4. Eletrodomésticos:**\\n\\n*   **Geladeira:**\\n    *   **Não coloque alimentos quentes:** Espere os alimentos esfriarem antes de colocá-los na geladeira.\\n    *   **Verifique a vedação:** A borracha da porta deve estar em bom estado para evitar a perda de ar frio.\\n    *   **Não sobrecarregue:** Evite encher demais a geladeira, pois isso dificulta a circulação do ar e aumenta o consumo.\\n    *   **Descongele regularmente:** O acúmulo de gelo faz a geladeira trabalhar mais.\\n*   **Máquina de lavar roupa:**\\n    *   **Use a capacidade máxima:** Lave apenas quando tiver uma carga completa de roupas.\\n    *   **Use água fria:** A maioria das roupas pode ser lavada com água fria, o que economiza energia.\\n    *   **Limpe o filtro:** Filtros sujos diminuem a eficiência da máquina.\\n*   **Ferro de passar roupa:**\\n    *   **Acumule roupas:** Passe uma grande quantidade de roupas de uma vez para aproveitar o aquecimento do ferro.\\n    *   **Desligue ao pausar:** Desligue o ferro quando precisar fazer uma pausa.\\n*   **Forno:**\\n    *   **Use com moderação:** Evite abrir a porta do forno durante o uso, pois isso causa perda de calor.\\n    *   **Aproveite o calor residual:** Desligue o forno alguns minutos antes de terminar o preparo do alimento, aproveitando o calor residual.\\n*   **Outros eletrodomésticos:**\\n    *   **Desligue da tomada:** Aparelhos em stand-by continuam consumindo energia. Desligue-os da tomada quando não estiverem em uso.\\n    *   **Use timers:** Utilize timers para programar o funcionamento de aparelhos como aquecedores e umidificadores.\\n    *   **Escolha aparelhos eficientes:** Ao comprar novos eletrodomésticos, opte por modelos com selo Procel A.\\n\\n**5. Isolamento:**\\n\\n*   **Invista em isolamento:** Um bom isolamento nas paredes, telhado e piso pode reduzir significativamente a necessidade de aquecimento e refrigeração.\\n*   **Vede janelas e portas:** Use fitas de vedação ou silicone para vedar frestas em janelas e portas, evitando a perda de calor/frio.\\n\\n**6. Energia Solar:**\\n\\n*   **Considere a instalação de painéis solares:** Se possível, instale painéis solares em sua casa. A energia solar é uma fonte limpa e renovável, e pode reduzir significativamente seus custos de energia a longo prazo.\\n\\n**7. Hábitos de Consumo:**\\n\\n*   **Conscientização:** Esteja atento aos seus hábitos de consumo e incentive os demais moradores da casa a fazer o mesmo.\\n*   **Monitore o consumo:** Acompanhe o consumo de energia da sua casa através da conta de luz ou de aplicativos que monitoram o consumo em tempo real. Isso ajuda a identificar padrões e oportunidades de economia.\\n*   **Educação:** Informe-se sobre as tarifas de energia e horários de pico para evitar o uso de aparelhos que consomem muita energia nesses horários.\\n\\n**Lembre-se:** Pequenas mudanças de hábitos e investimentos em equipamentos mais eficientes podem gerar uma grande economia na conta de luz a longo prazo. Comece com as dicas mais fáceis de implementar e vá avançando gradualmente para as medidas mais complexas.'"
            ],
            "application/vnd.google.colaboratory.intrinsic+json": {
              "type": "string"
            }
          },
          "metadata": {},
          "execution_count": 16
        }
      ]
    },
    {
      "cell_type": "code",
      "source": [
        "resposta = chat.send_message(\"Quanto custa o kilowatts hora no meu município?\")\n",
        "\n",
        "resposta.text"
      ],
      "metadata": {
        "id": "PXyeesuhSw6C",
        "colab": {
          "base_uri": "https://localhost:8080/",
          "height": 140
        },
        "outputId": "de0ddaa2-fb43-4f63-bea3-5b31471df568"
      },
      "execution_count": 17,
      "outputs": [
        {
          "output_type": "execute_result",
          "data": {
            "text/plain": [
              "'Para saber o custo exato do kilowatt-hora (kWh) no seu município, você precisa consultar a sua conta de luz ou entrar em contato com a sua distribuidora de energia. As tarifas variam de acordo com a distribuidora, tipo de consumidor (residencial, comercial, industrial) e a modalidade tarifária (convencional, horária branca, verde ou azul).\\n\\n**Onde encontrar essa informação:**\\n\\n*   **Na sua conta de luz:** Procure por um campo que indique o \"Custo do kWh\" ou \"Tarifa de Energia\". Geralmente, essa informação está detalhada na seção de informações sobre o consumo.\\n*   **No site da sua distribuidora:** A maioria das distribuidoras disponibiliza as tarifas atualizadas em seus sites. Procure pela seção de \"Tarifas\" ou \"Consumidores\".\\n*   **Atendimento ao cliente da sua distribuidora:** Entre em contato com a sua distribuidora por telefone ou chat online e solicite a informação sobre o custo do kWh para a sua unidade consumidora.\\n\\n**Informações adicionais importantes:**\\n\\n*   **Impostos e taxas:** O valor do kWh informado na sua conta de luz já inclui impostos (como ICMS e PIS/COFINS) e taxas (como a taxa de iluminação pública).\\n*   **Bandeiras tarifárias:** As bandeiras tarifárias (verde, amarela, vermelha 1 e vermelha 2) são um sistema que indica o custo da energia em função das condições de geração. Quando a bandeira está vermelha, há um acréscimo na tarifa.\\n*   **Tarifa Social:** Se você se enquadra nos critérios da Tarifa Social de Energia Elétrica, terá um desconto na sua conta de luz.\\n\\nPara te ajudar a encontrar o custo do kWh, preciso saber em qual município você está localizado. Se você puder me informar, posso tentar encontrar o site da sua distribuidora para facilitar a sua busca.'"
            ],
            "application/vnd.google.colaboratory.intrinsic+json": {
              "type": "string"
            }
          },
          "metadata": {},
          "execution_count": 17
        }
      ]
    },
    {
      "cell_type": "code",
      "source": [
        "from google.genai import types\n",
        "chat_config = types.GenerateContentConfig (system_instruction = \"Assuma o papel de um chatbot com gírias porém sucinto, com perguntas claras e pausadas, seu nome é Miauzão que se propõe a ser consultor de economia energética da casa do operador. \"\"Sua tarefa é fazer perguntas sobre o custo de energia por Kilowatts por hora representado pela sigla KWH, utilizar os valores declarados pelo operador para usar em um placeholder ajustado, analisando o texto fornecido pelo operador. \" \"Ofereça  tabelas, comandos e respostas através de e perguntas sobre: \"\"1 - Pedir ao operador para coletar o uso de Kilowatts hora de cada dispositivo na residência e verificar a etiqueta de consumo de energia do aparelho ou o manual do fabricante para ter uma informação mais precisa. \"\"2 - Pedir ao operador que declare também dispositivos considerados de consumo momentâneos menores e a média de horas ou minutos ligados com cada um diariamente como AirFryer, Secadores de Cabelo, Lampadas, Carregadores de celular, Moldens de Internet, Chuveiro Elétrico, Liquidificadores, Processadores de Comida, Sublimadores ou Ferros de passar. \"\"3 - Pedir uma consulta kwh cobrado pela distribuidora de energia na fatura e o valor das faturas dos ultimos 3 meses.\"\"4 - Dar custos diário/mensal calculados usando o valor de Kilowatts (kW) totais da conta. \"\"5 - Fazer comparação de faturas através da leitura de dados e identificar os culpados pelo aumento na conta de luz.\"\"6 - Sobre a previsão de gastos: Quais fatores, além da estação (verão), o sistema deve levar em consideração para fazer a previsão de gastos futuros.\"\"7 - Perguntar há negócios ou comércio em casa e se deve considerar tarifas diferenciadas por horário ou demanda. Faça perguntas de forma conversacional, uma ou algumas por vez, e espere pela resposta antes de continuar. Faça uma estimativa baseado nas medições em tempo real. Dê dicas sobre a verificação de filtros: Como vida útil de aparelhos ou a eficiência do filtro do ar-condicionado e sugira usar algum sensor. Criar um sistema para calcular o custo estimado para o Ar Condicionados hora, para lâmpadas e para garantir que fique dentro do orçamento médio. Sugerir ajustar intensidade das luzes ou a temperatura do Ar Condicionado para otimizar o gasto e cumprir o limite de um possivel valor sugerido pelo operador. Sugerir a ação de Desligar forno elétrico em standby. Comece fazendo uma pergunta sobre algo que você achou interessante nos dados.\")\n",
        "chat = client.chats.create(model = modelo,config = chat_config)"
      ],
      "metadata": {
        "id": "hGn_20oXTY5t"
      },
      "execution_count": 18,
      "outputs": []
    },
    {
      "cell_type": "code",
      "source": [
        "try:\n",
        "    prompt = input(\"Olá tudo bem? \\n Esse é o Miauzão, um chatbot assistente IA que se propões a ser seu consultor de economia energética. Não se assuste com sua personalidade, ele é extravagante até demais. \\n\\n\")\n",
        "    while prompt != \"fim\":\n",
        "        resposta = chat.send_message(prompt)\n",
        "        print(\"MiaozãoAI: \", resposta.text)\n",
        "        print(\"\\n\")\n",
        "        prompt = input(\"Esperando prompt: \")\n",
        "except KeyboardInterrupt:\n",
        "    # Este bloco é executado quando o usuário pressiona Ctrl+C\n",
        "    print(\"\\nChat encerrado pelo usuário.\")"
      ],
      "metadata": {
        "id": "uw0sSABxVAFQ"
      },
      "execution_count": null,
      "outputs": []
    }
  ]
}